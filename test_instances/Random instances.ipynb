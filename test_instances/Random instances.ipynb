{
 "cells": [
  {
   "cell_type": "code",
   "execution_count": 1,
   "id": "40e0aef5",
   "metadata": {},
   "outputs": [],
   "source": [
    "import random\n",
    "import numpy as np"
   ]
  },
  {
   "cell_type": "code",
   "execution_count": 2,
   "id": "1fe7a14c",
   "metadata": {},
   "outputs": [],
   "source": [
    "def random_list_normal(size):\n",
    "    return [abs(int(np.random.normal(loc=50, scale=15))) for _ in range(size)]\n",
    "\n",
    "def random_list_custom(size, list1_size_percent, list2_size_percent, list3_size_percent):\n",
    "    # 5  - 30\n",
    "    # 31 - 60\n",
    "    # 61 - 95\n",
    "        \n",
    "    lst1 = [abs(round(random.uniform(5 , 30)))  for _ in range(round(list1_size_percent * size / 100))]\n",
    "    lst2 = [abs(round(random.uniform(31, 60))) for _ in range(round(list2_size_percent * size / 100))]\n",
    "    lst3 = [abs(round(random.uniform(61, 95))) for _ in range(round(list3_size_percent * size / 100))]\n",
    "        \n",
    "    return (lst1 + lst2 + lst3)"
   ]
  },
  {
   "cell_type": "code",
   "execution_count": 3,
   "id": "b329d761",
   "metadata": {},
   "outputs": [],
   "source": [
    "# 5 - 95\n",
    "\n",
    "sizes = [30, 50, 80, 100, 120, 150, 180, 200, 250, 280, 300,\n",
    "         350, 400, 450, 500, 550, 600, 700, 800, 900, 1000]\n",
    "\n",
    "lists = []\n",
    "\n",
    "for i in range(len(sizes)):\n",
    "    lst = None\n",
    "    \n",
    "    if i % 6 == 0:\n",
    "        lst = (random_list_normal(sizes[i]))\n",
    "    elif i % 6 == 1:\n",
    "        lst = (random_list_custom(sizes[i], 50, 30, 20))\n",
    "    elif i % 6 == 2:\n",
    "        lst = (random_list_custom(sizes[i], 20, 30, 50))\n",
    "    elif i % 6 == 3:\n",
    "        lst = (random_list_custom(sizes[i], 33, 34, 33))\n",
    "    elif i % 6 == 4:\n",
    "        lst = (random_list_custom(sizes[i], 80, 10, 10))\n",
    "    elif i % 6 == 5:\n",
    "        lst = (random_list_custom(sizes[i], 10, 10, 80))\n",
    "        \n",
    "    random.shuffle(lst)\n",
    "    \n",
    "    with open(f'test_instance_{i}.csp', 'w') as f:\n",
    "        for x in lst:\n",
    "            f.write(str(x) + ' ')"
   ]
  }
 ],
 "metadata": {
  "kernelspec": {
   "display_name": "Python 3 (ipykernel)",
   "language": "python",
   "name": "python3"
  },
  "language_info": {
   "codemirror_mode": {
    "name": "ipython",
    "version": 3
   },
   "file_extension": ".py",
   "mimetype": "text/x-python",
   "name": "python",
   "nbconvert_exporter": "python",
   "pygments_lexer": "ipython3",
   "version": "3.10.12"
  }
 },
 "nbformat": 4,
 "nbformat_minor": 5
}
