{
 "cells": [
  {
   "cell_type": "code",
   "execution_count": 2,
   "id": "0422af87",
   "metadata": {},
   "outputs": [],
   "source": [
    "def calc_solution_value(l, L, N, M):# 1 * w[0] + 2 * w[1] + .... + M * w[M-1]\n",
    "\n",
    "    w = deepcopy(L)\n",
    "    for i in range(N):\n",
    "        for j in range(M):\n",
    "            if l[i] <= w[j]:\n",
    "                w[j] -= l[i]\n",
    "                break\n",
    "    \n",
    "    w.sort(reverse = True)\n",
    "    num_stock = [i for i in range(1, M + 1)]\n",
    "    result = 0\n",
    "    for i in range(M):\n",
    "        result += w[i] * num_stock[i] #skalarni proizvod?\n",
    "    return result"
   ]
  },
  {
   "cell_type": "code",
   "execution_count": 6,
   "id": "eb5bf19d",
   "metadata": {},
   "outputs": [],
   "source": [
    "import random"
   ]
  },
  {
   "cell_type": "code",
   "execution_count": null,
   "id": "6c723316",
   "metadata": {},
   "outputs": [],
   "source": [
    "def make_small_change(l, N):\n",
    "    idxs = [i for i in range(N)]\n",
    "    random_length = random.randrange(1, N)\n",
    "    chosen = random.sample(idxs, k = random_length)\n",
    "    for i in range(random_length):\n",
    "        for j in range(chosen[i] + 1, N):\n",
    "            if l[chosen[i]] != l[j]:\n",
    "                tmp = l[chosen[i]]\n",
    "                l[chosen[i]] = l[j]\n",
    "                l[j] = tmp\n",
    "                break\n",
    "    "
   ]
  },
  {
   "cell_type": "code",
   "execution_count": 4,
   "id": "3f95b691",
   "metadata": {},
   "outputs": [],
   "source": [
    "from copy import deepcopy"
   ]
  },
  {
   "cell_type": "code",
   "execution_count": 5,
   "id": "b07f3dbb",
   "metadata": {},
   "outputs": [],
   "source": [
    "def initialize(l): # l je lista porudzbina tkd ako dobijem 2 od ove velicine i 3 od ove i blabla\n",
    "    #onda treba sve to u jedan niz\n",
    "    l.sort(reverse = True) #nisam sig bas dal l da sortiram\n"
   ]
  },
  {
   "cell_type": "code",
   "execution_count": null,
   "id": "7ad358d6",
   "metadata": {},
   "outputs": [],
   "source": [
    "# nk - The number of the ordered small items by the length of l k .\n",
    "# N - The number of all small items.\n",
    "# li - The length of the i th ordered item.\n",
    "# M - The number of all large objects. - moze da ne bude dato u zadatku vec da se izracuna u initialize f-ji\n",
    "# Lj - The length of the j th large object.\n",
    "# wj - The trim loss appeared on j th large object.\n",
    "# Xij - A binary variable which is equal to one if the i th Item is cut from the j th large object and\n",
    "# zero otherwise.\n",
    "# wj = Lj − for i in range(N) for j in range(M)(li * xij) - calc trim loss \n",
    "# 0 <= wj <= Lj - logicno\n",
    "\n",
    "# 0 < j < M - materijal koji imamo\n",
    "# 0 < i < N - broj porucenih "
   ]
  },
  {
   "cell_type": "code",
   "execution_count": null,
   "id": "eb9bf765",
   "metadata": {},
   "outputs": [],
   "source": [
    "import math"
   ]
  },
  {
   "cell_type": "code",
   "execution_count": 1,
   "id": "c7fef47e",
   "metadata": {},
   "outputs": [],
   "source": [
    "def simulated_annealing(l, L, N, M):\n",
    "    L.sort(reverse = True)\n",
    "    solution = deepcopy(l)\n",
    "    initialize(solution)\n",
    "    value = calc_solution_value(solution, L, N, M)\n",
    "    best_solution = deepcopy(solution)\n",
    "    best_value = value\n",
    "    T = 1000\n",
    "    a = 0.9\n",
    "    min_temperature = 1e-3  \n",
    "\n",
    "    \n",
    "    while T > 1e-3:\n",
    "        new_solution = deepcopy(solution)\n",
    "        make_small_change(new_solution, N)\n",
    "        new_value = calc_solution_value(new_solution, L, N, M)\n",
    "        \n",
    "        diff = new_value - value\n",
    "        if diff < 0:\n",
    "            solution = deepcopy(new_solution)\n",
    "            value = new_value\n",
    "            if new_value < best_value:\n",
    "                best_value = new_value\n",
    "                best_solution = deepcopy(new_solution)\n",
    "        else:\n",
    "            if (math.e)**((-diff) / T)\n",
    "                value = new_value\n",
    "                solution = deepcopy(new_solution)\n",
    "        T = a * T\n",
    "        \n",
    "    return best_solution, best_value "
   ]
  },
  {
   "cell_type": "code",
   "execution_count": 2,
   "id": "9538d44a",
   "metadata": {},
   "outputs": [],
   "source": [
    "def calc_M(l, N):\n",
    "    stock_len = 100\n",
    "    stocks = [stock_len]\n",
    "    num_stock = 1\n",
    "    for i in range(N):\n",
    "        for j in range(num_stock):\n",
    "            if stocks[j] >= l[i]:\n",
    "                stocks[num_stock] -= l[i]\n",
    "            else:\n",
    "                if j == (num_stock - 1):\n",
    "                    num_stock += 1\n",
    "                    stocks.append(stock_len)\n",
    "    return num_stock "
   ]
  },
  {
   "cell_type": "code",
   "execution_count": null,
   "id": "7ef04e34",
   "metadata": {},
   "outputs": [],
   "source": [
    "N = len(l)\n",
    "M = calc_M(l, N)"
   ]
  },
  {
   "cell_type": "code",
   "execution_count": null,
   "id": "27a77e6c",
   "metadata": {},
   "outputs": [],
   "source": [
    "solution, value = simulated_annealing(l, L, N, M)\n",
    "print(solution, value)"
   ]
  }
 ],
 "metadata": {
  "kernelspec": {
   "display_name": "Python 3 (ipykernel)",
   "language": "python",
   "name": "python3"
  },
  "language_info": {
   "codemirror_mode": {
    "name": "ipython",
    "version": 3
   },
   "file_extension": ".py",
   "mimetype": "text/x-python",
   "name": "python",
   "nbconvert_exporter": "python",
   "pygments_lexer": "ipython3",
   "version": "3.10.12"
  }
 },
 "nbformat": 4,
 "nbformat_minor": 5
}
