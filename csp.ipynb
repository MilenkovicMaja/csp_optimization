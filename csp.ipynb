{
 "cells": [
  {
   "cell_type": "raw",
   "id": "bf0ec67c",
   "metadata": {},
   "source": [
    "Item-based Simulated Annealing"
   ]
  },
  {
   "cell_type": "code",
   "execution_count": 33,
   "id": "b9d07e00",
   "metadata": {},
   "outputs": [],
   "source": [
    "import random\n",
    "from copy import deepcopy"
   ]
  },
  {
   "cell_type": "code",
   "execution_count": 34,
   "id": "5397c0a5",
   "metadata": {},
   "outputs": [],
   "source": [
    "STOCK_SIZE = 100"
   ]
  },
  {
   "cell_type": "code",
   "execution_count": 35,
   "id": "5a20c18e",
   "metadata": {},
   "outputs": [],
   "source": [
    "def read_instance(path):\n",
    "    with open(path, 'r') as f:\n",
    "        orders = [int(x) for x in f.readline().split()]\n",
    "        return orders"
   ]
  },
  {
   "cell_type": "code",
   "execution_count": 36,
   "id": "0422af87",
   "metadata": {},
   "outputs": [],
   "source": [
    "# 1 * w[0] + 2 * w[1] + .... + M * w[M-1]\n",
    "\n",
    "def calc_solution_value(orders, stocks): \n",
    "\n",
    "    leftovers = deepcopy(stocks)\n",
    "    \n",
    "    for order in orders:\n",
    "        for j, leftover_size in enumerate(leftovers):\n",
    "            if order <= leftover_size:\n",
    "                leftovers[j] -= order\n",
    "                break\n",
    "            elif j == len(leftovers) - 1:\n",
    "                leftovers.append(STOCK_SIZE)\n",
    "                leftovers[-1] -= order\n",
    "                break\n",
    "    \n",
    "    leftovers.sort(reverse = True)\n",
    "    \n",
    "    pos = None\n",
    "    for i, leftover in enumerate(leftovers):\n",
    "        if leftover == STOCK_SIZE:\n",
    "            pos = i\n",
    "        else:\n",
    "            break\n",
    "    if pos is not None and pos+1 < len(leftovers):\n",
    "        leftovers = leftovers[pos+1:]\n",
    "    \n",
    "    result = 0    \n",
    "    for i, leftover in enumerate(leftovers):\n",
    "        result += (i+1) * leftover\n",
    "    \n",
    "    return result, len(leftovers)"
   ]
  },
  {
   "cell_type": "code",
   "execution_count": 37,
   "id": "6c723316",
   "metadata": {},
   "outputs": [],
   "source": [
    "def make_small_change(orders, num_orders):\n",
    "    idxs = [i for i in range(num_orders)]\n",
    "    random_length = random.randrange(1, num_orders)\n",
    "    chosen = random.sample(idxs, k = random_length)\n",
    "    for i in range(random_length):\n",
    "        for j in range(chosen[i] + 1, num_orders):\n",
    "            if orders[chosen[i]] != orders[j]:\n",
    "                tmp = orders[chosen[i]]\n",
    "                orders[chosen[i]] = orders[j]\n",
    "                orders[j] = tmp\n",
    "                break\n",
    "    "
   ]
  },
  {
   "cell_type": "code",
   "execution_count": 38,
   "id": "b07f3dbb",
   "metadata": {},
   "outputs": [],
   "source": [
    "def initialize(orders): # l je lista porudzbina tkd ako dobijem 2 od ove velicine i 3 od ove i blabla\n",
    "    #onda treba sve to u jedan niz\n",
    "    orders.sort(reverse = True) #nisam sig bas dal l da sortiram"
   ]
  },
  {
   "cell_type": "code",
   "execution_count": 39,
   "id": "7ad358d6",
   "metadata": {},
   "outputs": [],
   "source": [
    "# nk - The number of the ordered small items by the length of l k .\n",
    "# N - The number of all small items.\n",
    "# li - The length of the i th ordered item.\n",
    "# M - The number of all large objects. - moze da ne bude dato u zadatku vec da se izracuna u initialize f-ji\n",
    "# Lj - The length of the j th large object.\n",
    "# wj - The trim loss appeared on j th large object.\n",
    "# Xij - A binary variable which is equal to one if the i th Item is cut from the j th large object and\n",
    "# zero otherwise.\n",
    "# wj = Lj − for i in range(N) for j in range(M)(li * xij) - calc trim loss \n",
    "# 0 <= wj <= Lj - logicno\n",
    "\n",
    "# 0 < j < M - materijal koji imamo\n",
    "# 0 < i < N - broj porucenih "
   ]
  },
  {
   "cell_type": "code",
   "execution_count": 40,
   "id": "eb9bf765",
   "metadata": {},
   "outputs": [],
   "source": [
    "import math"
   ]
  },
  {
   "cell_type": "code",
   "execution_count": 57,
   "id": "c7fef47e",
   "metadata": {},
   "outputs": [],
   "source": [
    "def simulated_annealing(orders, stocks, num_orders, num_stocks):\n",
    "    stocks.sort(reverse = True)\n",
    "    solution = deepcopy(orders)\n",
    "    #initialize(solution)\n",
    "    value, stocks_used = calc_solution_value(solution, stocks)\n",
    "    best_solution = deepcopy(solution)\n",
    "    best_value = value\n",
    "    best_stocks_used = stocks_used\n",
    "    T = 500\n",
    "    a = 0.9\n",
    "    min_temperature = 1e-3  \n",
    "\n",
    "    \n",
    "    while T > 1e-3:\n",
    "        new_solution = deepcopy(solution)\n",
    "        make_small_change(new_solution, num_orders)\n",
    "        new_value, new_stocks_used = calc_solution_value(new_solution, stocks)\n",
    "        \n",
    "        diff = new_value - value\n",
    "        if diff < 0:\n",
    "            solution = deepcopy(new_solution)\n",
    "            value = new_value\n",
    "            stocks_used = new_stocks_used\n",
    "            if new_value < best_value:\n",
    "                best_value = new_value\n",
    "                best_solution = deepcopy(new_solution)\n",
    "                best_stocks_used = new_stocks_used\n",
    "        else:\n",
    "            if (math.e)**((-diff) / T):\n",
    "                value = new_value\n",
    "                solution = deepcopy(new_solution)\n",
    "                stocks_used = new_stocks_used\n",
    "        T = a * T\n",
    "        \n",
    "    return best_solution, best_value, best_stocks_used"
   ]
  },
  {
   "cell_type": "code",
   "execution_count": 58,
   "id": "9538d44a",
   "metadata": {},
   "outputs": [],
   "source": [
    "def calc_num_stocks(orders, num_orders):\n",
    "    stocks = [STOCK_SIZE]\n",
    "    num_stock = 1\n",
    "    for i in range(num_orders):\n",
    "        for j in range(num_stock):\n",
    "            if stocks[j] >= orders[i]:\n",
    "                stocks[j] -= orders[i]\n",
    "            else:\n",
    "                if j == (num_stock - 1):\n",
    "                    num_stock += 1\n",
    "                    stocks.append(STOCK_SIZE)\n",
    "                    stocks[num_stock - 1] -= orders[i]\n",
    "    return num_stock"
   ]
  },
  {
   "cell_type": "code",
   "execution_count": 59,
   "id": "02ecf42b",
   "metadata": {},
   "outputs": [],
   "source": [
    "orders = [20, 30, 50, 10, 5, 5, 80, 35, 25, 40, 8, 12, 33, 27, 20, 90, 10, 90, 2, 3, 4, 1]\n",
    "random.shuffle(orders)"
   ]
  },
  {
   "cell_type": "code",
   "execution_count": 60,
   "id": "7ef04e34",
   "metadata": {},
   "outputs": [],
   "source": [
    "num_orders = len(orders)\n",
    "num_stocks = calc_num_stocks(orders, num_orders)\n",
    "stocks = [100 for i in range(num_stocks)]"
   ]
  },
  {
   "cell_type": "code",
   "execution_count": 61,
   "id": "27a77e6c",
   "metadata": {},
   "outputs": [
    {
     "name": "stdout",
     "output_type": "stream",
     "text": [
      "[33, 4, 1, 12, 27, 30, 50, 40, 35, 80, 90, 5, 2, 25, 20, 3, 5, 20, 10, 90, 8, 10] 0 6\n"
     ]
    }
   ],
   "source": [
    "solution, value, stocks_used = simulated_annealing(orders, stocks, num_orders, num_stocks)\n",
    "print(solution, value, stocks_used)"
   ]
  },
  {
   "cell_type": "code",
   "execution_count": 62,
   "id": "268b431e",
   "metadata": {},
   "outputs": [],
   "source": [
    "orders = read_instance('test_instances/test_instance_20.csp')\n",
    "num_orders = len(orders)\n",
    "num_stocks = calc_num_stocks(orders, num_orders)\n",
    "stocks = [100 for i in range(num_stocks)]"
   ]
  },
  {
   "cell_type": "code",
   "execution_count": 63,
   "id": "08e79baf",
   "metadata": {},
   "outputs": [
    {
     "data": {
      "text/plain": [
       "758"
      ]
     },
     "execution_count": 63,
     "metadata": {},
     "output_type": "execute_result"
    }
   ],
   "source": [
    "num_stocks"
   ]
  },
  {
   "cell_type": "code",
   "execution_count": 65,
   "id": "d9fd5d5b",
   "metadata": {},
   "outputs": [
    {
     "name": "stdout",
     "output_type": "stream",
     "text": [
      "[48, 80, 90, 81, 60, 94, 81, 53, 32, 70, 92, 62, 38, 78, 84, 95, 77, 15, 18, 5, 50, 28, 26, 19, 46, 94, 78, 63, 66, 64, 82, 83, 45, 79, 71, 41, 84, 90, 45, 58, 46, 64, 47, 45, 45, 86, 53, 72, 32, 62, 32, 20, 79, 61, 93, 52, 52, 53, 69, 19, 42, 80, 23, 64, 69, 63, 94, 81, 63, 77, 46, 13, 32, 80, 66, 51, 86, 38, 56, 62, 10, 93, 66, 78, 63, 63, 36, 10, 54, 62, 51, 28, 85, 18, 40, 88, 68, 37, 16, 39, 41, 83, 69, 48, 43, 5, 52, 34, 90, 47, 27, 93, 58, 27, 24, 33, 81, 38, 86, 32, 40, 62, 36, 77, 85, 26, 60, 82, 87, 53, 57, 42, 88, 85, 39, 41, 75, 85, 43, 91, 55, 52, 71, 85, 24, 84, 76, 31, 91, 57, 81, 33, 6, 38, 45, 13, 53, 21, 26, 87, 31, 65, 51, 81, 70, 65, 22, 44, 80, 61, 26, 52, 39, 84, 33, 95, 67, 79, 66, 89, 25, 8, 27, 67, 92, 59, 70, 62, 19, 6, 52, 28, 81, 49, 92, 84, 73, 86, 24, 13, 74, 78, 39, 16, 18, 57, 48, 62, 87, 83, 67, 90, 52, 9, 95, 90, 31, 15, 70, 94, 13, 76, 79, 27, 64, 20, 10, 54, 67, 33, 43, 68, 58, 22, 74, 94, 7, 41, 45, 78, 76, 83, 68, 94, 27, 67, 49, 17, 46, 55, 47, 64, 69, 56, 68, 51, 8, 70, 79, 83, 16, 11, 85, 59, 64, 20, 61, 59, 36, 36, 67, 76, 87, 20, 84, 81, 28, 83, 13, 81, 37, 71, 83, 58, 75, 77, 41, 74, 26, 49, 86, 66, 64, 16, 41, 25, 84, 39, 75, 92, 41, 17, 39, 35, 6, 30, 20, 19, 86, 33, 91, 63, 81, 88, 66, 95, 73, 33, 68, 76, 57, 8, 90, 76, 53, 25, 40, 91, 27, 29, 53, 82, 82, 57, 40, 33, 52, 56, 84, 73, 84, 82, 88, 91, 77, 63, 73, 76, 52, 82, 49, 15, 47, 84, 32, 66, 6, 89, 30, 75, 73, 37, 34, 81, 62, 12, 32, 33, 22, 91, 66, 86, 70, 90, 94, 84, 21, 78, 67, 25, 61, 20, 53, 39, 64, 80, 19, 69, 32, 63, 40, 19, 75, 71, 9, 72, 82, 56, 47, 42, 84, 62, 55, 24, 29, 68, 79, 53, 28, 84, 54, 39, 71, 38, 69, 66, 42, 76, 77, 69, 72, 85, 81, 16, 95, 64, 13, 68, 80, 73, 33, 12, 13, 93, 42, 78, 85, 26, 94, 27, 8, 91, 33, 64, 79, 56, 75, 63, 63, 86, 72, 85, 48, 9, 16, 90, 46, 90, 70, 35, 8, 82, 79, 44, 76, 88, 7, 59, 92, 56, 57, 27, 24, 23, 79, 58, 47, 65, 80, 70, 63, 91, 78, 56, 75, 66, 89, 72, 79, 33, 39, 22, 62, 76, 69, 29, 76, 91, 61, 85, 82, 8, 89, 20, 93, 11, 33, 48, 17, 91, 85, 85, 55, 79, 13, 14, 19, 93, 43, 22, 11, 14, 48, 20, 36, 11, 50, 53, 92, 11, 84, 70, 86, 56, 95, 53, 58, 25, 60, 29, 63, 22, 80, 45, 63, 44, 19, 43, 78, 81, 64, 91, 35, 45, 50, 85, 85, 67, 35, 76, 67, 91, 37, 62, 53, 28, 51, 75, 67, 81, 18, 53, 73, 31, 36, 28, 85, 71, 35, 35, 45, 94, 6, 75, 15, 65, 80, 93, 49, 89, 56, 80, 53, 43, 46, 38, 19, 11, 8, 64, 94, 69, 84, 59, 73, 63, 82, 63, 53, 62, 50, 9, 19, 20, 64, 69, 69, 18, 88, 89, 28, 59, 63, 58, 8, 56, 66, 80, 50, 82, 41, 6, 46, 29, 76, 25, 56, 81, 69, 65, 37, 39, 16, 84, 10, 69, 44, 62, 41, 35, 72, 6, 43, 49, 68, 91, 62, 73, 15, 56, 77, 23, 88, 70, 28, 33, 67, 88, 74, 80, 52, 48, 71, 76, 92, 74, 91, 11, 81, 78, 48, 91, 81, 87, 24, 15, 51, 91, 91, 45, 66, 50, 53, 53, 75, 63, 48, 36, 69, 41, 91, 90, 72, 79, 89, 69, 88, 86, 45, 59, 44, 54, 58, 8, 80, 83, 64, 47, 77, 92, 73, 34, 41, 85, 78, 76, 49, 79, 38, 95, 86, 66, 81, 38, 64, 32, 12, 75, 38, 40, 55, 27, 47, 67, 15, 34, 14, 18, 76, 69, 93, 28, 68, 75, 47, 53, 12, 68, 65, 87, 75, 20, 92, 49, 89, 85, 88, 20, 25, 87, 79, 53, 82, 65, 79, 41, 64, 73, 62, 13, 84, 91, 75, 71, 28, 10, 18, 79, 47, 40, 93, 58, 14, 38, 10, 89, 41, 89, 84, 59, 18, 87, 71, 22, 29, 86, 49, 55, 71, 94, 82, 29, 13, 58, 80, 45, 32, 51, 11, 74, 93, 69, 42, 56, 68, 29, 49, 71, 9, 44, 64, 67, 76, 32, 6, 71, 55, 45, 50, 79, 85, 73, 46, 82, 33, 89, 76, 18, 78, 33, 78, 22, 57, 23, 38, 35, 55, 59, 20, 87, 31, 74, 76, 59, 24, 68, 21, 80, 32, 27, 74, 84, 93, 50, 58, 40, 84, 85, 53, 32, 78, 70, 88, 61, 63, 93, 48, 56, 53, 19, 15, 85, 5, 8, 39, 68, 51, 70, 64, 77, 27, 91, 62, 60, 90, 51, 6, 83, 82, 73, 51, 44, 45, 20, 14, 82, 10, 21, 89, 70, 90, 10, 66, 26, 93, 75, 79, 95, 56, 28, 7, 45, 58, 71, 69, 73, 78, 85, 28, 87, 43, 33, 19, 86, 41, 90, 94, 63, 66, 13, 9, 41, 16, 49, 42, 80, 12, 61, 71, 51, 33, 84, 89, 28, 81, 7, 90, 71, 70, 90, 22, 72, 37, 94, 56, 32, 34, 84, 37, 42, 58, 81, 67, 70, 66, 74, 5, 95, 87, 67, 55, 71, 13, 71, 25, 41, 9, 86, 28, 57] 695975 622\n"
     ]
    }
   ],
   "source": [
    "solution, value, stocks_used = simulated_annealing(orders, stocks, num_orders, num_stocks)\n",
    "print(solution, value, stocks_used)"
   ]
  },
  {
   "cell_type": "code",
   "execution_count": null,
   "id": "6dbf3f69",
   "metadata": {},
   "outputs": [],
   "source": []
  }
 ],
 "metadata": {
  "kernelspec": {
   "display_name": "Python 3 (ipykernel)",
   "language": "python",
   "name": "python3"
  },
  "language_info": {
   "codemirror_mode": {
    "name": "ipython",
    "version": 3
   },
   "file_extension": ".py",
   "mimetype": "text/x-python",
   "name": "python",
   "nbconvert_exporter": "python",
   "pygments_lexer": "ipython3",
   "version": "3.10.12"
  }
 },
 "nbformat": 4,
 "nbformat_minor": 5
}
