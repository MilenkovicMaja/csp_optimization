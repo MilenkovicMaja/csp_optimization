{
 "cells": [
  {
   "cell_type": "raw",
   "id": "bf0ec67c",
   "metadata": {},
   "source": [
    "Item-based Simulated Annealing"
   ]
  },
  {
   "cell_type": "code",
   "execution_count": 1,
   "id": "b9d07e00",
   "metadata": {},
   "outputs": [],
   "source": [
    "import random\n",
    "from copy import deepcopy"
   ]
  },
  {
   "cell_type": "code",
   "execution_count": 2,
   "id": "5397c0a5",
   "metadata": {},
   "outputs": [],
   "source": [
    "STOCK_SIZE = 100"
   ]
  },
  {
   "cell_type": "code",
   "execution_count": 22,
   "id": "5a20c18e",
   "metadata": {},
   "outputs": [],
   "source": [
    "def read_instance(path):\n",
    "    with open(path, 'r') as f:\n",
    "        orders = [int(x) for x in f.readline().split()]\n",
    "        return orders"
   ]
  },
  {
   "cell_type": "code",
   "execution_count": 4,
   "id": "0422af87",
   "metadata": {},
   "outputs": [],
   "source": [
    "# 1 * w[0] + 2 * w[1] + .... + M * w[M-1]\n",
    "\n",
    "def calc_solution_value(orders, stocks): \n",
    "\n",
    "    leftovers = deepcopy(stocks)\n",
    "    \n",
    "    for order in orders:\n",
    "        for j, leftover_size in enumerate(leftovers):\n",
    "            if order <= leftover_size:\n",
    "                leftovers[j] -= order\n",
    "                break\n",
    "            elif j == len(leftovers) - 1:\n",
    "                leftovers.append(STOCK_SIZE)\n",
    "                leftovers[-1] -= order\n",
    "                break\n",
    "    \n",
    "    leftovers.sort(reverse = True)\n",
    "    \n",
    "    pos = None\n",
    "    for i, leftover in enumerate(leftovers):\n",
    "        if leftover == STOCK_SIZE:\n",
    "            pos = i\n",
    "        else:\n",
    "            break\n",
    "    if pos is not None and pos+1 < len(leftovers):\n",
    "        leftovers = leftovers[pos+1:]\n",
    "    \n",
    "    result = 0    \n",
    "    for i, leftover in enumerate(leftovers):\n",
    "        result += (i+1) * leftover\n",
    "    \n",
    "    return result"
   ]
  },
  {
   "cell_type": "code",
   "execution_count": 5,
   "id": "6c723316",
   "metadata": {},
   "outputs": [],
   "source": [
    "def make_small_change(orders, num_orders):\n",
    "    idxs = [i for i in range(num_orders)]\n",
    "    random_length = random.randrange(1, num_orders)\n",
    "    chosen = random.sample(idxs, k = random_length)\n",
    "    for i in range(random_length):\n",
    "        for j in range(chosen[i] + 1, num_orders):\n",
    "            if orders[chosen[i]] != orders[j]:\n",
    "                tmp = orders[chosen[i]]\n",
    "                orders[chosen[i]] = orders[j]\n",
    "                orders[j] = tmp\n",
    "                break\n",
    "    "
   ]
  },
  {
   "cell_type": "code",
   "execution_count": 6,
   "id": "b07f3dbb",
   "metadata": {},
   "outputs": [],
   "source": [
    "def initialize(orders): # l je lista porudzbina tkd ako dobijem 2 od ove velicine i 3 od ove i blabla\n",
    "    #onda treba sve to u jedan niz\n",
    "    orders.sort(reverse = True) #nisam sig bas dal l da sortiram"
   ]
  },
  {
   "cell_type": "code",
   "execution_count": 7,
   "id": "7ad358d6",
   "metadata": {},
   "outputs": [],
   "source": [
    "# nk - The number of the ordered small items by the length of l k .\n",
    "# N - The number of all small items.\n",
    "# li - The length of the i th ordered item.\n",
    "# M - The number of all large objects. - moze da ne bude dato u zadatku vec da se izracuna u initialize f-ji\n",
    "# Lj - The length of the j th large object.\n",
    "# wj - The trim loss appeared on j th large object.\n",
    "# Xij - A binary variable which is equal to one if the i th Item is cut from the j th large object and\n",
    "# zero otherwise.\n",
    "# wj = Lj − for i in range(N) for j in range(M)(li * xij) - calc trim loss \n",
    "# 0 <= wj <= Lj - logicno\n",
    "\n",
    "# 0 < j < M - materijal koji imamo\n",
    "# 0 < i < N - broj porucenih "
   ]
  },
  {
   "cell_type": "code",
   "execution_count": 8,
   "id": "eb9bf765",
   "metadata": {},
   "outputs": [],
   "source": [
    "import math"
   ]
  },
  {
   "cell_type": "code",
   "execution_count": 9,
   "id": "c7fef47e",
   "metadata": {},
   "outputs": [],
   "source": [
    "def simulated_annealing(orders, stocks, num_orders, num_stocks):\n",
    "    stocks.sort(reverse = True)\n",
    "    solution = deepcopy(orders)\n",
    "    initialize(solution)\n",
    "    value = calc_solution_value(solution, stocks)\n",
    "    best_solution = deepcopy(solution)\n",
    "    best_value = value\n",
    "    T = 2000\n",
    "    a = 0.9\n",
    "    min_temperature = 1e-3  \n",
    "\n",
    "    \n",
    "    while T > 1e-3:\n",
    "        new_solution = deepcopy(solution)\n",
    "        make_small_change(new_solution, num_orders)\n",
    "        new_value = calc_solution_value(new_solution, stocks)\n",
    "        \n",
    "        diff = new_value - value\n",
    "        if diff < 0:\n",
    "            solution = deepcopy(new_solution)\n",
    "            value = new_value\n",
    "            if new_value < best_value:\n",
    "                best_value = new_value\n",
    "                best_solution = deepcopy(new_solution)\n",
    "        else:\n",
    "            if (math.e)**((-diff) / T):\n",
    "                value = new_value\n",
    "                solution = deepcopy(new_solution)\n",
    "        T = a * T\n",
    "        \n",
    "    return best_solution, best_value "
   ]
  },
  {
   "cell_type": "code",
   "execution_count": 10,
   "id": "9538d44a",
   "metadata": {},
   "outputs": [],
   "source": [
    "def calc_num_stocks(orders, num_orders):\n",
    "    stocks = [STOCK_SIZE]\n",
    "    num_stock = 1\n",
    "    for i in range(num_orders):\n",
    "        for j in range(num_stock):\n",
    "            if stocks[j] >= orders[i]:\n",
    "                stocks[j] -= orders[i]\n",
    "            else:\n",
    "                if j == (num_stock - 1):\n",
    "                    num_stock += 1\n",
    "                    stocks.append(STOCK_SIZE)\n",
    "                    stocks[num_stock - 1] -= orders[i]\n",
    "    return num_stock"
   ]
  },
  {
   "cell_type": "code",
   "execution_count": 11,
   "id": "02ecf42b",
   "metadata": {},
   "outputs": [],
   "source": [
    "orders = [20, 30, 50, 10, 5, 5, 80, 35, 25, 40, 8, 12, 33, 27, 20, 90, 10, 90, 2, 3, 4, 1]\n",
    "random.shuffle(orders)"
   ]
  },
  {
   "cell_type": "code",
   "execution_count": 12,
   "id": "7ef04e34",
   "metadata": {},
   "outputs": [
    {
     "name": "stdout",
     "output_type": "stream",
     "text": [
      "8\n"
     ]
    }
   ],
   "source": [
    "num_orders = len(orders)\n",
    "num_stocks = calc_num_stocks(orders, num_orders)\n",
    "stocks = [100 for i in range(num_stocks)]"
   ]
  },
  {
   "cell_type": "code",
   "execution_count": 13,
   "id": "27a77e6c",
   "metadata": {},
   "outputs": [
    {
     "name": "stdout",
     "output_type": "stream",
     "text": [
      "[90, 90, 30, 50, 35, 80, 40, 33, 25, 27, 12, 20, 10, 3, 20, 8, 10, 1, 4, 5, 2, 5] 0\n"
     ]
    }
   ],
   "source": [
    "solution, value = simulated_annealing(orders, stocks, num_orders, num_stocks)\n",
    "print(solution, value)"
   ]
  },
  {
   "cell_type": "code",
   "execution_count": 26,
   "id": "268b431e",
   "metadata": {},
   "outputs": [],
   "source": [
    "orders = read_instance('test_instances/test_instance_12.csp')\n",
    "num_orders = len(orders)\n",
    "num_stocks = calc_num_stocks(orders, num_orders)\n",
    "stocks = [100 for i in range(num_stocks)]"
   ]
  },
  {
   "cell_type": "code",
   "execution_count": null,
   "id": "d9fd5d5b",
   "metadata": {},
   "outputs": [],
   "source": [
    "solution, value = simulated_annealing(orders, stocks, num_orders, num_stocks)\n",
    "print(solution, value)"
   ]
  },
  {
   "cell_type": "code",
   "execution_count": null,
   "id": "6dbf3f69",
   "metadata": {},
   "outputs": [],
   "source": []
  }
 ],
 "metadata": {
  "kernelspec": {
   "display_name": "Python 3 (ipykernel)",
   "language": "python",
   "name": "python3"
  },
  "language_info": {
   "codemirror_mode": {
    "name": "ipython",
    "version": 3
   },
   "file_extension": ".py",
   "mimetype": "text/x-python",
   "name": "python",
   "nbconvert_exporter": "python",
   "pygments_lexer": "ipython3",
   "version": "3.10.12"
  }
 },
 "nbformat": 4,
 "nbformat_minor": 5
}
