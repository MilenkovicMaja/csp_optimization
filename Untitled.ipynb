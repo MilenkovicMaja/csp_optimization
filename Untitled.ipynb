{
 "cells": [
  {
   "cell_type": "code",
   "execution_count": 91,
   "id": "04f66a0e",
   "metadata": {},
   "outputs": [],
   "source": [
    "def generalized_order_crossover(parent1, parent2, child1, child2):\n",
    "    pos1 = random.randrange(1, len(parent1.code))\n",
    "    pos2 = random.randrange(pos1, len(parent1.code))\n",
    "    print(pos1, pos2)\n",
    "    \n",
    "    temp_array1 = [(0,0) for _ in range(len(parent1.code))]\n",
    "    temp_array2 = [(0,0) for _ in range(len(parent1.code))]\n",
    "    \n",
    "    ind_array1 = []\n",
    "    ind_array2 = []\n",
    "    \n",
    "    count_dict1 = {}\n",
    "    count_dict2 = {}\n",
    "\n",
    "    for num in parent1.code:\n",
    "        count_dict1[num] = count_dict1.get(num, 0) + 1\n",
    "        ind_array1.append(count_dict1[num])\n",
    "              \n",
    "    for num in parent2.code:\n",
    "        count_dict2[num] = count_dict2.get(num, 0) + 1\n",
    "        ind_array2.append(count_dict2[num])\n",
    "      \n",
    "    temp_array1[pos1:pos2] = [(parent2.code[i],ind_array2[i]) for i in range(pos1, pos2)]\n",
    "    temp_array2[pos1:pos2] = [(parent1.code[i],ind_array1[i]) for i in range(pos1, pos2)]\n",
    "\n",
    "    ind = 0\n",
    "    for i in range(len(parent1.code)):\n",
    "        if i < pos1 or i >= pos2:\n",
    "            while True:\n",
    "                if (parent1.code[ind], ind_array1[ind]) not in temp_array1:\n",
    "                    temp_array1[i] = (parent1.code[ind], ind_array1[ind])\n",
    "                    ind += 1\n",
    "                    break\n",
    "                else:\n",
    "                    ind += 1\n",
    "      \n",
    "    ind = 0\n",
    "    for i in range(len(parent1.code)):\n",
    "        if i < pos1 or i >= pos2:\n",
    "            while True:\n",
    "                if (parent2.code[ind], ind_array2[ind]) not in temp_array2:\n",
    "                    temp_array2[i] = (parent2.code[ind], ind_array2[ind])\n",
    "                    ind += 1\n",
    "                    break\n",
    "                else:\n",
    "                    ind += 1\n",
    "                    \n",
    "    for i in range(len(parent1.code)):\n",
    "        child1.code[i] = temp_array1[i][0]\n",
    "        child2.code[i] = temp_array2[i][0]\n",
    "            \n",
    "    print(child1.code)\n",
    "    print(child2.code)"
   ]
  },
  {
   "cell_type": "code",
   "execution_count": 96,
   "id": "ef554f97",
   "metadata": {},
   "outputs": [
    {
     "name": "stdout",
     "output_type": "stream",
     "text": [
      "8 8\n",
      "[4, 4, 5, 2, 3, 4, 5, 6, 2, 2, 3]\n",
      "[5, 4, 3, 4, 4, 2, 6, 3, 2, 5, 2]\n"
     ]
    }
   ],
   "source": [
    "import random\n",
    "\n",
    "class Chromosome:\n",
    "    def __init__(self, code):\n",
    "        self.code = code\n",
    "\n",
    "def test_generalized_order_crossover():\n",
    "    parent1 = Chromosome([4, 4, 5, 2, 3, 4, 5, 6, 2, 2, 3])\n",
    "    parent2 = Chromosome([5, 4, 3, 4, 4, 2, 6, 3, 2, 5, 2])\n",
    "    child1 = Chromosome([0] * len(parent1.code))\n",
    "    child2 = Chromosome([0] * len(parent1.code))\n",
    "    \n",
    "    generalized_order_crossover(parent1, parent2, child1, child2)\n",
    "\n",
    "test_generalized_order_crossover()\n"
   ]
  },
  {
   "cell_type": "code",
   "execution_count": null,
   "id": "dbcefc08",
   "metadata": {},
   "outputs": [],
   "source": []
  }
 ],
 "metadata": {
  "kernelspec": {
   "display_name": "Python 3 (ipykernel)",
   "language": "python",
   "name": "python3"
  },
  "language_info": {
   "codemirror_mode": {
    "name": "ipython",
    "version": 3
   },
   "file_extension": ".py",
   "mimetype": "text/x-python",
   "name": "python",
   "nbconvert_exporter": "python",
   "pygments_lexer": "ipython3",
   "version": "3.10.12"
  }
 },
 "nbformat": 4,
 "nbformat_minor": 5
}
