{
 "cells": [
  {
   "cell_type": "code",
   "execution_count": 2,
   "id": "5397c0a5",
   "metadata": {},
   "outputs": [],
   "source": [
    "STOCK_SIZE = 100"
   ]
  },
  {
   "cell_type": "code",
   "execution_count": 3,
   "id": "5a20c18e",
   "metadata": {},
   "outputs": [],
   "source": [
    "def read_instance(path):\n",
    "    with open(path, 'r') as f:\n",
    "        orders = [int(x) for x in f.readline().split()]\n",
    "        return orders"
   ]
  },
  {
   "cell_type": "markdown",
   "id": "6c7451a6",
   "metadata": {},
   "source": [
    "# Simulated annealing"
   ]
  },
  {
   "cell_type": "code",
   "execution_count": 4,
   "id": "eb9bf765",
   "metadata": {},
   "outputs": [],
   "source": [
    "import math\n",
    "from matplotlib import pyplot as plt\n",
    "import random\n",
    "from copy import deepcopy"
   ]
  },
  {
   "cell_type": "code",
   "execution_count": 5,
   "id": "448da0a4",
   "metadata": {},
   "outputs": [],
   "source": [
    "def initialize(orders: list[int], shuffle: bool = False) -> list[int]:\n",
    "    solution = deepcopy(orders)\n",
    "    if shuffle:\n",
    "        random.shuffle(solution)\n",
    "    return solution"
   ]
  },
  {
   "cell_type": "code",
   "execution_count": 6,
   "id": "14e83726",
   "metadata": {},
   "outputs": [],
   "source": [
    "def calc_solution_value(orders: list[int]) -> tuple[int, int]:\n",
    "    \n",
    "    leftovers = []\n",
    "    num_stocks = 0\n",
    "    \n",
    "    for order in orders:\n",
    "        \n",
    "        order_cut = False\n",
    "        \n",
    "        for j, leftover in enumerate(leftovers):\n",
    "            if order <= leftover:\n",
    "                leftovers[j] -= order\n",
    "                order_cut = True\n",
    "                break\n",
    "        \n",
    "        if not order_cut:\n",
    "            num_stocks += 1\n",
    "            leftovers.append(STOCK_SIZE - order)\n",
    "        \n",
    "    leftovers.sort(reverse = True)\n",
    "        \n",
    "    result = 0    \n",
    "    for i, leftover in enumerate(leftovers):\n",
    "        if leftover == 0:\n",
    "            break\n",
    "        result += (i+1) * leftover\n",
    "        \n",
    "    return result, num_stocks"
   ]
  },
  {
   "cell_type": "code",
   "execution_count": 7,
   "id": "292975a6",
   "metadata": {},
   "outputs": [],
   "source": [
    "def swap(orders: list[int]): \n",
    "    idx1 = random.randrange(len(orders))\n",
    "    idx2 = random.randrange(len(orders))\n",
    "    while orders[idx1] == orders[idx2]:\n",
    "        idx2 = random.randrange(len(orders))\n",
    "        \n",
    "    tmp = orders[idx1]\n",
    "    orders[idx1] = orders[idx2]\n",
    "    orders[idx2] = tmp"
   ]
  },
  {
   "cell_type": "code",
   "execution_count": 8,
   "id": "071b117d",
   "metadata": {},
   "outputs": [],
   "source": [
    "def calc_temperature_1(current_temp: float, alpha: float) -> float:\n",
    "    return current_temp / (1 + alpha * current_temp)\n",
    "\n",
    "def calc_alpha(initial_temp: float, min_temp: float, num_iters: int) -> float:\n",
    "    return (initial_temp - min_temp) / (num_iters * initial_temp * min_temp)"
   ]
  },
  {
   "cell_type": "code",
   "execution_count": 9,
   "id": "6397a238",
   "metadata": {},
   "outputs": [],
   "source": [
    "from typing import Callable"
   ]
  },
  {
   "cell_type": "code",
   "execution_count": 10,
   "id": "c7fef47e",
   "metadata": {},
   "outputs": [],
   "source": [
    "def simulated_annealing(orders: list[int],\n",
    "                        initial_temp: float = 100,\n",
    "                        min_temp: float = 1,\n",
    "                        alpha: float = None,\n",
    "                        max_iters: int = 5000,\n",
    "                        make_small_change: Callable[[list[int]], None] = swap,\n",
    "                        calc_temperature: Callable[[float, float], float] = calc_temperature_1,\n",
    "                        plot: bool = False,\n",
    "                        max_accepted_solutions: int = 2,\n",
    "                        sum_best_values: list[int] = None,\n",
    "                        sum_num_stocks: list[int] = None,\n",
    "                        sum_value_perc_improvement: list[float] = None,\n",
    "                        sum_num_stocks_perc_improvement: list[float] = None\n",
    "                        ) -> tuple[list[int], int, int]:\n",
    "    if alpha is None:\n",
    "        alpha = calc_alpha(initial_temp, min_temp, max_iters)\n",
    "    \n",
    "    num_orders = len(orders)\n",
    "    solution = initialize(orders)\n",
    "    temperature = initial_temp\n",
    "    \n",
    "    value, stocks_used = calc_solution_value(solution)\n",
    "    best_solution = deepcopy(solution)\n",
    "    best_value = value\n",
    "    best_stocks_used = stocks_used\n",
    "\n",
    "    PLT_VALUES = []\n",
    "    PLT_STOCKS_USED = []\n",
    "    ITERS = 0\n",
    "        \n",
    "    while temperature > min_temp and ITERS < max_iters:\n",
    "        accepted_solutions = 0\n",
    "        new_solution = deepcopy(solution)\n",
    "        make_small_change(new_solution)\n",
    "        new_value, new_stocks_used = calc_solution_value(new_solution)\n",
    "        \n",
    "        diff = new_value - value\n",
    "        if diff <= 0:\n",
    "            solution = deepcopy(new_solution)\n",
    "            value = new_value\n",
    "            stocks_used = new_stocks_used\n",
    "            \n",
    "            if new_value < best_value:\n",
    "                best_value = new_value\n",
    "                best_solution = deepcopy(new_solution)\n",
    "                best_stocks_used = new_stocks_used\n",
    "                \n",
    "            accepted_solutions += 1    \n",
    "            \n",
    "        elif random.random() < (math.e)**((-diff) / temperature):\n",
    "            value = new_value\n",
    "            solution = deepcopy(new_solution)\n",
    "            stocks_used = new_stocks_used\n",
    "            accepted_solutions += 1\n",
    "        \n",
    "        if diff > 0 or accepted_solutions >= max_accepted_solutions:\n",
    "            temperature = calc_temperature(temperature, alpha)\n",
    "                    \n",
    "        PLT_VALUES.append(value)\n",
    "        PLT_STOCKS_USED.append(stocks_used)\n",
    "        ITERS += 1\n",
    "          \n",
    "# -------------------------------------------------------------------------------------\n",
    "\n",
    "    if plot:      \n",
    "        plt.figure(figsize=(10, 3))\n",
    "        plt.subplot(1, 2, 1)\n",
    "        plt.plot(range(ITERS), PLT_VALUES, label='Value')\n",
    "        plt.legend()\n",
    "\n",
    "        plt.subplot(1, 2, 2)\n",
    "        plt.plot(range(ITERS), PLT_STOCKS_USED, label='Stocks used')\n",
    "        plt.legend()\n",
    "        plt.show()\n",
    "        \n",
    "    if sum_best_values is not None:\n",
    "        if len(PLT_VALUES) < len(sum_best_values):\n",
    "            PLT_VALUES.extend([PLT_VALUES[-1]] * (len(sum_best_values) - len(PLT_VALUES)))\n",
    "        \n",
    "        for i in range(len(sum_best_values)):\n",
    "            sum_best_values[i] = sum_best_values[i] + PLT_VALUES[i]\n",
    "        \n",
    "    if sum_num_stocks is not None:\n",
    "        if len(PLT_STOCKS_USED) < len(sum_num_stocks):\n",
    "            PLT_STOCKS_USED.extend([PLT_STOCKS_USED[-1]] * (len(sum_num_stocks) - len(PLT_STOCKS_USED)))\n",
    "        for i in range(len(sum_num_stocks)):\n",
    "            sum_num_stocks[i] = sum_num_stocks[i] + PLT_STOCKS_USED[i]\n",
    "            \n",
    "    if sum_value_perc_improvement is not None:\n",
    "        if len(PLT_VALUES) < len(sum_value_perc_improvement):\n",
    "            PLT_VALUES.extend([PLT_VALUES[-1]] * (len(sum_value_perc_improvement) - len(PLT_VALUES)))\n",
    "        \n",
    "        initial_val = PLT_VALUES[0]\n",
    "        perc_improvement = [((initial_val - val) / initial_val * 100) for val in PLT_VALUES]\n",
    "        \n",
    "        for i in range(len(sum_value_perc_improvement)):\n",
    "            sum_value_perc_improvement[i] = sum_value_perc_improvement[i] + perc_improvement[i]\n",
    "            \n",
    "    if sum_num_stocks_perc_improvement is not None:\n",
    "        if len(PLT_STOCKS_USED) < len(sum_num_stocks_perc_improvement):\n",
    "            PLT_STOCKS_USED.extend([PLT_STOCKS_USED[-1]] * (len(sum_num_stocks_perc_improvement) - len(PLT_STOCKS_USED)))\n",
    "    \n",
    "        initial_num_stocks = PLT_STOCKS_USED[0]\n",
    "        perc_improvement = [((initial_num_stocks - num_stocks) / initial_num_stocks * 100) for num_stocks in PLT_STOCKS_USED]\n",
    "        \n",
    "        for i in range(len(sum_num_stocks_perc_improvement)):\n",
    "            sum_num_stocks_perc_improvement[i] = sum_num_stocks_perc_improvement[i] + perc_improvement[i]\n",
    "        \n",
    "    return best_solution, best_value, best_stocks_used"
   ]
  },
  {
   "cell_type": "markdown",
   "id": "28a623bb",
   "metadata": {},
   "source": [
    "# Genetic algorithm"
   ]
  },
  {
   "cell_type": "code",
   "execution_count": 34,
   "id": "42b10be5",
   "metadata": {},
   "outputs": [],
   "source": [
    "POPULATION_SIZE = 50\n",
    "NUM_ITERS = 200\n",
    "ELITISM_SIZE = 6\n",
    "MUTATION_PROB = 0.02\n",
    "CROSSOVER_PROB = 0.9\n",
    "TOURNAMENT_SIZE = 6\n",
    "SELECTION_PRESSURE = 1.5     # [1.0, 2.0]\n",
    "MC_OPTION = 'FIXED'\n",
    "\n",
    "class Individual:\n",
    "    def __init__(self, orders):\n",
    "        code = deepcopy(orders)\n",
    "        random.shuffle(code)\n",
    "        self.code = code\n",
    "        self.fitness, self.num_stocks = calc_solution_value(self.code)"
   ]
  },
  {
   "cell_type": "code",
   "execution_count": 35,
   "id": "1329b429",
   "metadata": {},
   "outputs": [],
   "source": [
    "def ga(orders:    list[int],\n",
    "       selection: Callable[[list[Individual], Individual], Individual] = tournament_selection,\n",
    "       crossover: Callable[[Individual, Individual, Individual, Individual], None] = generalized_order_crossover,\n",
    "       mutation:  Callable[[Individual], None] = mutation_swap,\n",
    "       plot: bool = False,\n",
    "       POPULATION_SIZE: int = 100,\n",
    "       MC_OPTION: str = 'FIXED',\n",
    "       CROSSOVER_PROB: float = 0.85,\n",
    "       MUTATION_PROB: float = 0.07,\n",
    "       NUM_ITERS: int = 100,\n",
    "       ELITISM_SIZE: int = 4,\n",
    "       sum_best_solutions: list[int] = None,\n",
    "       sum_num_stocks: list[int] = None\n",
    "      ):\n",
    "    \n",
    "    population = [Individual(orders) for _ in range(POPULATION_SIZE)]\n",
    "    new_population = deepcopy(population)\n",
    "    \n",
    "    PLT_VALUES = []\n",
    "    PLT_STOCKS_USED = []\n",
    "    \n",
    "    for it in range(NUM_ITERS):\n",
    "        population.sort(key=lambda x: x.fitness)\n",
    "        new_population[:ELITISM_SIZE] = deepcopy(population[:ELITISM_SIZE])\n",
    "        \n",
    "        PLT_VALUES.append(population[0].fitness)\n",
    "        PLT_STOCKS_USED.append(population[0].num_stocks)\n",
    "        \n",
    "        if MC_OPTION == 'DHM/ILC':\n",
    "            MUTATION_PROB = 1 - (it / (NUM_ITERS - 1))\n",
    "            MUTATION_PROB = mutation_lb + (mutation_ub - mutation_lb) * MUTATION_PROB\n",
    "\n",
    "            CROSSOVER_PROB = it / (NUM_ITERS - 1)\n",
    "            CROSSOVER_PROB = crossover_lb + (crossover_ub - crossover_lb) * CROSSOVER_PROB\n",
    "            \n",
    "        elif MC_OPTION == 'ILM/DHC':\n",
    "            MUTATION_PROB = it / (NUM_ITERS - 1)\n",
    "            MUTATION_PROB = mutation_lb + (mutation_ub - mutation_lb) * MUTATION_PROB\n",
    "            \n",
    "            CROSSOVER_PROB = 1 - (it / (NUM_ITERS - 1))\n",
    "            CROSSOVER_PROB = crossover_lb + (crossover_ub - crossover_lb) * CROSSOVER_PROB\n",
    "            \n",
    "        for i in range(ELITISM_SIZE, POPULATION_SIZE, 2):            \n",
    "            parent1 = selection(population, None)\n",
    "            parent2 = selection(population, parent1)\n",
    "                \n",
    "            if random.random() < CROSSOVER_PROB:\n",
    "                crossover(parent1, parent2, new_population[i], new_population[i+1])\n",
    "            else:\n",
    "                new_population[i] = deepcopy(parent1)\n",
    "                new_population[i+1] = deepcopy(parent2)\n",
    "            \n",
    "            if random.random() < MUTATION_PROB:\n",
    "                mutation(new_population[i])\n",
    "            \n",
    "            if random.random() < MUTATION_PROB:\n",
    "                mutation(new_population[i+1]) \n",
    "                                       \n",
    "            new_population[i].fitness, new_population[i].num_stocks = calc_solution_value(new_population[i].code)\n",
    "            new_population[i+1].fitness, new_population[i+1].num_stocks = calc_solution_value(new_population[i+1].code)\n",
    "        \n",
    "        population = deepcopy(new_population)\n",
    "    \n",
    "    if plot:\n",
    "        plt.figure(figsize=(10, 3))\n",
    "        plt.subplot(1, 2, 1)\n",
    "        plt.plot(range(NUM_ITERS), PLT_VALUES, label='Value')\n",
    "        plt.legend()\n",
    "\n",
    "        plt.subplot(1, 2, 2)\n",
    "        plt.plot(range(NUM_ITERS), PLT_STOCKS_USED, label='Stocks used')\n",
    "        plt.legend()\n",
    "        plt.show()\n",
    "        \n",
    "    if sum_best_solutions is not None:\n",
    "        for i in range(len(sum_best_solutions)):\n",
    "            sum_best_solutions[i] = sum_best_solutions[i] + PLT_VALUES[i]\n",
    "        \n",
    "    if sum_num_stocks is not None:\n",
    "        for i in range(len(sum_num_stocks)):\n",
    "            sum_num_stocks[i] = sum_num_stocks[i] + PLT_STOCKS_USED[i]\n",
    "    \n",
    "    best_individual = min(population, key=lambda x: x.fitness)\n",
    "    return best_individual.code, best_individual.fitness, best_individual.num_stocks"
   ]
  },
  {
   "cell_type": "markdown",
   "id": "d97b824d",
   "metadata": {},
   "source": [
    "### Selection"
   ]
  },
  {
   "cell_type": "code",
   "execution_count": 23,
   "id": "3adf2814",
   "metadata": {},
   "outputs": [],
   "source": [
    "def tournament_selection(population, forbidden):\n",
    "    allowed = list(set(population).difference({forbidden}))\n",
    "    chosen = random.sample(allowed, TOURNAMENT_SIZE)\n",
    "    return min(chosen, key=lambda x: x.fitness)"
   ]
  },
  {
   "cell_type": "markdown",
   "id": "bd548327",
   "metadata": {},
   "source": [
    "### Crossover"
   ]
  },
  {
   "cell_type": "code",
   "execution_count": 27,
   "id": "5a328768",
   "metadata": {},
   "outputs": [],
   "source": [
    "def generalized_order_crossover(parent1, parent2, child1, child2):\n",
    "    n = len(parent1.code)\n",
    "    pos1 = random.randrange(1, int(round(n/2)))\n",
    "    pos2 = pos1 + random.randrange(int(round(n/3)), int(round(n/2)))\n",
    "    \n",
    "    ind_array1 = []\n",
    "    ind_array2 = []\n",
    "    \n",
    "    count_dict1 = {}\n",
    "    count_dict2 = {}\n",
    "\n",
    "    for num in parent1.code:\n",
    "        count_dict1[num] = count_dict1.get(num, 0) + 1\n",
    "        ind_array1.append(count_dict1[num])\n",
    "              \n",
    "    for num in parent2.code:\n",
    "        count_dict2[num] = count_dict2.get(num, 0) + 1\n",
    "        ind_array2.append(count_dict2[num])\n",
    "      \n",
    "    chosen1 = [(parent1.code[i], ind_array1[i]) for i in range(pos1, pos2)]\n",
    "    chosen2 = [(parent2.code[i], ind_array2[i]) for i in range(pos1, pos2)]\n",
    "\n",
    "    result1 = []\n",
    "    result2 = []\n",
    "\n",
    "    for i,num in enumerate(parent2.code):\n",
    "        if (num, ind_array2[i]) == chosen1[0]:\n",
    "            result1.extend([x[0] for x in chosen1])\n",
    "            continue\n",
    "        if (num, ind_array2[i]) in chosen1:\n",
    "            continue\n",
    "        result1.append(num)\n",
    "        \n",
    "    for i,num in enumerate(parent1.code):\n",
    "        if (num, ind_array1[i]) == chosen2[0]:\n",
    "            result2.extend([x[0] for x in chosen2])\n",
    "            continue\n",
    "        if (num, ind_array1[i]) in chosen2:\n",
    "            continue\n",
    "        result2.append(num)\n",
    "       \n",
    "    child1.code = result1\n",
    "    child2.code = result2"
   ]
  },
  {
   "cell_type": "markdown",
   "id": "c6151303",
   "metadata": {},
   "source": [
    "### Mutation"
   ]
  },
  {
   "cell_type": "code",
   "execution_count": 30,
   "id": "26b24ca2",
   "metadata": {},
   "outputs": [],
   "source": [
    "def mutation_swap(instance):\n",
    "    pos1 = random.randrange(len(instance.code))\n",
    "    pos2 = random.randrange(len(instance.code))\n",
    "    \n",
    "    while pos2 == pos1:\n",
    "        pos2 = random.randrange(len(instance.code))\n",
    "\n",
    "    tmp = instance.code[pos1]\n",
    "    instance.code[pos1] = instance.code[pos2]\n",
    "    instance.code[pos2] = tmp"
   ]
  },
  {
   "cell_type": "markdown",
   "id": "0c9d8847",
   "metadata": {},
   "source": [
    "## Genetic algorithm + Simulated annealing"
   ]
  },
  {
   "cell_type": "markdown",
   "id": "ef2d1770",
   "metadata": {},
   "source": [
    "#### GA + SA on every individual in every generation"
   ]
  },
  {
   "cell_type": "code",
   "execution_count": 39,
   "id": "4f497229",
   "metadata": {},
   "outputs": [],
   "source": [
    "def ga_plus_sa(orders:    list[int],\n",
    "               selection: Callable[[list[Individual], Individual], Individual] = tournament_selection,\n",
    "               crossover: Callable[[Individual, Individual, Individual, Individual], None] = generalized_order_crossover,\n",
    "               mutation:  Callable[[Individual], None] = mutation_swap,\n",
    "               plot: bool = False,\n",
    "               POPULATION_SIZE: int = 100,\n",
    "               CROSSOVER_PROB: float = 0.85,\n",
    "               MUTATION_PROB: float = 0.07,\n",
    "               NUM_ITERS: int = 100,\n",
    "               ELITISM_SIZE: int = 4,\n",
    "               ):\n",
    "    \n",
    "    population = [Individual(orders) for _ in range(POPULATION_SIZE)]\n",
    "    new_population = deepcopy(population)\n",
    "    \n",
    "    PLT_VALUES = []\n",
    "    PLT_STOCKS_USED = []\n",
    "    \n",
    "    for it in range(NUM_ITERS):\n",
    "        print(f'Generation {it+1}/{NUM_ITERS}  ', end='\\r')\n",
    "        \n",
    "        population.sort(key=lambda x: x.fitness)\n",
    "        new_population[:ELITISM_SIZE] = deepcopy(population[:ELITISM_SIZE])\n",
    "        \n",
    "        PLT_VALUES.append(population[0].fitness)\n",
    "        PLT_STOCKS_USED.append(population[0].num_stocks)\n",
    "        \n",
    "            \n",
    "        for i in range(ELITISM_SIZE, POPULATION_SIZE, 2):            \n",
    "            parent1 = selection(population, None)\n",
    "            parent2 = selection(population, parent1)\n",
    "                \n",
    "            if random.random() < CROSSOVER_PROB:\n",
    "                crossover(parent1, parent2, new_population[i], new_population[i+1])\n",
    "            else:\n",
    "                new_population[i] = deepcopy(parent1)\n",
    "                new_population[i+1] = deepcopy(parent2)\n",
    "            \n",
    "            if random.random() < MUTATION_PROB:\n",
    "                mutation(new_population[i])\n",
    "            \n",
    "            if random.random() < MUTATION_PROB:\n",
    "                mutation(new_population[i+1])\n",
    "                \n",
    "            solution, value, num_stocks = simulated_annealing(new_population[i].code,\n",
    "                                                              max_iters = 1000\n",
    "                                                             )\n",
    "            new_population[i].code[:] = solution[:]\n",
    "            new_population[i].fitness = value\n",
    "            new_population[i].num_stocks = num_stocks\n",
    "            \n",
    "            solution, value, num_stocks = simulated_annealing(new_population[i+1].code,\n",
    "                                                              max_iters = 1000\n",
    "                                                             )\n",
    "            new_population[i+1].code[:] = solution[:]\n",
    "            new_population[i+1].fitness = value\n",
    "            new_population[i+1].num_stocks = num_stocks\n",
    "\n",
    "        population = deepcopy(new_population)\n",
    "    \n",
    "    if plot:\n",
    "        plt.figure(figsize=(10, 3))\n",
    "        plt.subplot(1, 2, 1)\n",
    "        plt.plot(range(NUM_ITERS), PLT_VALUES, label='Value')\n",
    "        plt.legend()\n",
    "\n",
    "        plt.subplot(1, 2, 2)\n",
    "        plt.plot(range(NUM_ITERS), PLT_STOCKS_USED, label='Stocks used')\n",
    "        plt.legend()\n",
    "        plt.show()\n",
    "        \n",
    "    best_individual = min(population, key=lambda x: x.fitness)\n",
    "    return best_individual.code, best_individual.fitness, best_individual.num_stocks"
   ]
  },
  {
   "cell_type": "code",
   "execution_count": 40,
   "id": "a235bac5",
   "metadata": {},
   "outputs": [
    {
     "name": "stdout",
     "output_type": "stream",
     "text": [
      "Generation 100/100  \r"
     ]
    },
    {
     "data": {
      "image/png": "[encoded data removed]",
      "text/plain": [
       "<Figure size 1000x300 with 2 Axes>"
      ]
     },
     "metadata": {},
     "output_type": "display_data"
    },
    {
     "name": "stdout",
     "output_type": "stream",
     "text": [
      "412653 607\n"
     ]
    }
   ],
   "source": [
    "orders = read_instance('test_instances/test_instance_20.csp')\n",
    "_, value, num_stocks = ga_plus_sa(orders, plot=True)\n",
    "print(value, num_stocks)"
   ]
  },
  {
   "cell_type": "markdown",
   "id": "229dcfc3",
   "metadata": {},
   "source": [
    "#### GA + SA on the best individual in every generation"
   ]
  },
  {
   "cell_type": "code",
   "execution_count": 34,
   "id": "cb20cda2",
   "metadata": {},
   "outputs": [],
   "source": [
    "def ga_plus_sa_2(orders:    list[int],\n",
    "                 selection: Callable[[list[Individual], Individual], Individual] = tournament_selection,\n",
    "                 crossover: Callable[[Individual, Individual, Individual, Individual], None] = generalized_order_crossover,\n",
    "                 mutation:  Callable[[Individual], None] = mutation_swap,\n",
    "                 plot: bool = False,\n",
    "                 POPULATION_SIZE: int = 100,\n",
    "                 CROSSOVER_PROB: float = 0.85,\n",
    "                 MUTATION_PROB: float = 0.07,\n",
    "                 NUM_ITERS: int = 100,\n",
    "                 ELITISM_SIZE: int = 4,\n",
    "                 ):\n",
    "    \n",
    "    population = [Individual(orders) for _ in range(POPULATION_SIZE)]\n",
    "    new_population = deepcopy(population)\n",
    "    \n",
    "    PLT_VALUES = []\n",
    "    PLT_STOCKS_USED = []\n",
    "    \n",
    "    for it in range(NUM_ITERS):\n",
    "        print(f'Generation {it+1}/{NUM_ITERS}  ', end='\\r')\n",
    "        \n",
    "        population.sort(key=lambda x: x.fitness)\n",
    "        new_population[:ELITISM_SIZE] = deepcopy(population[:ELITISM_SIZE])\n",
    "        \n",
    "        solution, value, num_stocks = simulated_annealing(new_population[0].code,\n",
    "                                                          max_iters = 1000\n",
    "                                                          )\n",
    "        new_population[0].code[:] = solution[:]\n",
    "        new_population[0].fitness = value\n",
    "        new_population[0].num_stocks = num_stocks\n",
    "        \n",
    "        PLT_VALUES.append(population[0].fitness)\n",
    "        PLT_STOCKS_USED.append(population[0].num_stocks)\n",
    "            \n",
    "        for i in range(ELITISM_SIZE, POPULATION_SIZE, 2):            \n",
    "            parent1 = selection(population, None)\n",
    "            parent2 = selection(population, parent1)\n",
    "                \n",
    "            if random.random() < CROSSOVER_PROB:\n",
    "                crossover(parent1, parent2, new_population[i], new_population[i+1])\n",
    "            else:\n",
    "                new_population[i] = deepcopy(parent1)\n",
    "                new_population[i+1] = deepcopy(parent2)\n",
    "            \n",
    "            if random.random() < MUTATION_PROB:\n",
    "                mutation(new_population[i])\n",
    "            \n",
    "            if random.random() < MUTATION_PROB:\n",
    "                mutation(new_population[i+1])    \n",
    "                \n",
    "            new_population[i].fitness, new_population[i].num_stocks = calc_solution_value(new_population[i].code)\n",
    "            new_population[i+1].fitness, new_population[i+1].num_stocks = calc_solution_value(new_population[i+1].code)\n",
    "\n",
    "        population = deepcopy(new_population)\n",
    "    \n",
    "    if plot:\n",
    "        plt.figure(figsize=(10, 3))\n",
    "        plt.subplot(1, 2, 1)\n",
    "        plt.plot(range(NUM_ITERS), PLT_VALUES, label='Value')\n",
    "        plt.legend()\n",
    "\n",
    "        plt.subplot(1, 2, 2)\n",
    "        plt.plot(range(NUM_ITERS), PLT_STOCKS_USED, label='Stocks used')\n",
    "        plt.legend()\n",
    "        plt.show()\n",
    "        \n",
    "    best_individual = min(population, key=lambda x: x.fitness)\n",
    "    return best_individual.code, best_individual.fitness, best_individual.num_stocks"
   ]
  },
  {
   "cell_type": "code",
   "execution_count": 42,
   "id": "bc129e28",
   "metadata": {},
   "outputs": [
    {
     "name": "stdout",
     "output_type": "stream",
     "text": [
      "Generation 100/100  \r"
     ]
    },
    {
     "data": {
      "image/png": "[encoded data removed]",
      "text/plain": [
       "<Figure size 1000x300 with 2 Axes>"
      ]
     },
     "metadata": {},
     "output_type": "display_data"
    },
    {
     "name": "stdout",
     "output_type": "stream",
     "text": [
      "392029 606\n"
     ]
    }
   ],
   "source": [
    "orders = read_instance('test_instances/test_instance_20.csp')\n",
    "_, value, num_stocks = ga_plus_sa_2(orders, plot=True)\n",
    "print(value, num_stocks)"
   ]
  },
  {
   "cell_type": "markdown",
   "id": "458ecc92",
   "metadata": {},
   "source": [
    "#### GA + SA on the best GA solution"
   ]
  },
  {
   "cell_type": "code",
   "execution_count": 51,
   "id": "f3964085",
   "metadata": {},
   "outputs": [],
   "source": [
    "def ga_plus_sa_3(orders):\n",
    "    solution, value, num_stocks = ga(orders, plot=True)\n",
    "    solution, value, num_stocks = simulated_annealing(solution, plot=True, max_iters=10000)\n",
    "    print(value, num_stocks)"
   ]
  },
  {
   "cell_type": "code",
   "execution_count": 52,
   "id": "c7f9014b",
   "metadata": {},
   "outputs": [
    {
     "data": {
      "image/png": "[encoded data removed]",
      "text/plain": [
       "<Figure size 1000x300 with 2 Axes>"
      ]
     },
     "metadata": {},
     "output_type": "display_data"
    },
    {
     "data": {
      "image/png": "[encoded data removed]",
      "text/plain": [
       "<Figure size 1000x300 with 2 Axes>"
      ]
     },
     "metadata": {},
     "output_type": "display_data"
    },
    {
     "name": "stdout",
     "output_type": "stream",
     "text": [
      "894335 631\n"
     ]
    }
   ],
   "source": [
    "orders = read_instance('test_instances/test_instance_20.csp')\n",
    "ga_plus_sa_3(orders)"
   ]
  }
 ],
 "metadata": {
  "kernelspec": {
   "display_name": "Python 3 (ipykernel)",
   "language": "python",
   "name": "python3"
  },
  "language_info": {
   "codemirror_mode": {
    "name": "ipython",
    "version": 3
   },
   "file_extension": ".py",
   "mimetype": "text/x-python",
   "name": "python",
   "nbconvert_exporter": "python",
   "pygments_lexer": "ipython3",
   "version": "3.10.12"
  }
 },
 "nbformat": 4,
 "nbformat_minor": 5
}
