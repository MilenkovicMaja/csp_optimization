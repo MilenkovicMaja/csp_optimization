{
 "cells": [
  {
   "cell_type": "code",
   "execution_count": 2,
   "id": "5397c0a5",
   "metadata": {},
   "outputs": [],
   "source": [
    "STOCK_SIZE = 100"
   ]
  },
  {
   "cell_type": "code",
   "execution_count": 3,
   "id": "5a20c18e",
   "metadata": {},
   "outputs": [],
   "source": [
    "def read_instance(path):\n",
    "    with open(path, 'r') as f:\n",
    "        orders = [int(x) for x in f.readline().split()]\n",
    "        return orders"
   ]
  },
  {
   "cell_type": "markdown",
   "id": "8d6e1196",
   "metadata": {},
   "source": [
    "# CPLEX"
   ]
  },
  {
   "cell_type": "code",
   "execution_count": 10,
   "id": "9732542c",
   "metadata": {},
   "outputs": [],
   "source": [
    "from docplex.mp.model import Model\n",
    "from time import perf_counter\n",
    "import pandas as pd"
   ]
  },
  {
   "cell_type": "code",
   "execution_count": 22,
   "id": "b98771e5",
   "metadata": {},
   "outputs": [],
   "source": [
    "def cplex_solver(cplex_df, num_instance, orders):\n",
    "    start = perf_counter()\n",
    "    \n",
    "    model = Model(name=f'CSP{num_instance}')\n",
    "    num_stocks = len(orders)\n",
    "    num_orders = len(orders)\n",
    "\n",
    "    order_list = model.integer_var_list(num_orders, lb=orders, ub=orders, name='orders')\n",
    "\n",
    "    order_placement = model.binary_var_matrix(num_stocks, num_orders, name='order_placement')\n",
    "    stock_used = model.binary_var_list(num_stocks, name='stock_used')\n",
    "\n",
    "    for i in range(num_stocks):\n",
    "        model.add_constraint(sum(order_placement[i,j] * order_list[j] for j in range(num_orders)) <= STOCK_SIZE * stock_used[i])\n",
    "\n",
    "    for j in range(num_orders):\n",
    "        model.add_constraint(sum(order_placement[i,j] for i in range(num_stocks)) == 1)\n",
    "\n",
    "    model.minimize(sum(stock_used))\n",
    "    \n",
    "    solution = model.solve()\n",
    "    \n",
    "    end = perf_counter() \n",
    "    \n",
    "    print(f'Stocks used for instance {num_instance}: {solution.get_objective_value()}')\n",
    "    \n",
    "    cplex_df.loc[0, f'instance {num_instance} num stocks'] = solution.get_objective_value()\n",
    "    cplex_df.loc[0, f'instance {num_instance} time'] = end-start"
   ]
  },
  {
   "cell_type": "code",
   "execution_count": 48,
   "id": "2060a593",
   "metadata": {},
   "outputs": [
    {
     "name": "stdout",
     "output_type": "stream",
     "text": [
      "775902 317\n",
      "299.0\n"
     ]
    }
   ],
   "source": [
    "orders = read_instance('test_instances/test_instance_11.csp')\n",
    "initial_value, initial_stocks_used = calc_solution_value(orders)\n",
    "print(initial_value, initial_stocks_used)\n",
    "cplex_solver(orders)"
   ]
  },
  {
   "cell_type": "code",
   "execution_count": 32,
   "id": "b1e06e12",
   "metadata": {},
   "outputs": [],
   "source": [
    "cplex_df = pd.DataFrame()\n",
    "\n",
    "for i in range(15):\n",
    "    orders = read_instance(f'test_instances/test_instance_{i}.csp')\n",
    "    cplex_solver(cplex_df, i, orders)"
   ]
  },
  {
   "cell_type": "code",
   "execution_count": 70,
   "id": "c6d2d367",
   "metadata": {},
   "outputs": [
    {
     "data": {
      "text/html": [
       "<div>\n",
       "<style scoped>\n",
       "    .dataframe tbody tr th:only-of-type {\n",
       "        vertical-align: middle;\n",
       "    }\n",
       "\n",
       "    .dataframe tbody tr th {\n",
       "        vertical-align: top;\n",
       "    }\n",
       "\n",
       "    .dataframe thead th {\n",
       "        text-align: right;\n",
       "    }\n",
       "</style>\n",
       "<table border=\"1\" class=\"dataframe\">\n",
       "  <thead>\n",
       "    <tr style=\"text-align: right;\">\n",
       "      <th></th>\n",
       "      <th>instance 0 num stocks</th>\n",
       "      <th>instance 0 time</th>\n",
       "      <th>instance 1 num stocks</th>\n",
       "      <th>instance 1 time</th>\n",
       "      <th>instance 2 num stocks</th>\n",
       "      <th>instance 2 time</th>\n",
       "      <th>instance 3 num stocks</th>\n",
       "      <th>instance 3 time</th>\n",
       "      <th>instance 4 num stocks</th>\n",
       "      <th>instance 4 time</th>\n",
       "      <th>...</th>\n",
       "      <th>instance 10 num stocks</th>\n",
       "      <th>instance 10 time</th>\n",
       "      <th>instance 11 num stocks</th>\n",
       "      <th>instance 11 time</th>\n",
       "      <th>instance 12 num stocks</th>\n",
       "      <th>instance 12 time</th>\n",
       "      <th>instance 13 num stocks</th>\n",
       "      <th>instance 13 time</th>\n",
       "      <th>instance 14 num stocks</th>\n",
       "      <th>instance 14 time</th>\n",
       "    </tr>\n",
       "  </thead>\n",
       "  <tbody>\n",
       "    <tr>\n",
       "      <th>0</th>\n",
       "      <td>17</td>\n",
       "      <td>0.425326</td>\n",
       "      <td>20</td>\n",
       "      <td>0.277497</td>\n",
       "      <td>49</td>\n",
       "      <td>16.013496</td>\n",
       "      <td>47</td>\n",
       "      <td>6.825647</td>\n",
       "      <td>33</td>\n",
       "      <td>1.363269</td>\n",
       "      <td>...</td>\n",
       "      <td>76</td>\n",
       "      <td>272.816822</td>\n",
       "      <td>299</td>\n",
       "      <td>54.968373</td>\n",
       "      <td>NaN</td>\n",
       "      <td>NaN</td>\n",
       "      <td>172</td>\n",
       "      <td>904.146431</td>\n",
       "      <td>308</td>\n",
       "      <td>1625.924981</td>\n",
       "    </tr>\n",
       "  </tbody>\n",
       "</table>\n",
       "<p>1 rows × 30 columns</p>\n",
       "</div>"
      ],
      "text/plain": [
       "   instance 0 num stocks  instance 0 time  instance 1 num stocks  \\\n",
       "0                     17         0.425326                     20   \n",
       "\n",
       "   instance 1 time  instance 2 num stocks  instance 2 time  \\\n",
       "0         0.277497                     49        16.013496   \n",
       "\n",
       "   instance 3 num stocks  instance 3 time  instance 4 num stocks  \\\n",
       "0                     47         6.825647                     33   \n",
       "\n",
       "   instance 4 time  ...  instance 10 num stocks  instance 10 time  \\\n",
       "0         1.363269  ...                      76        272.816822   \n",
       "\n",
       "   instance 11 num stocks  instance 11 time  instance 12 num stocks  \\\n",
       "0                     299         54.968373                     NaN   \n",
       "\n",
       "   instance 12 time  instance 13 num stocks  instance 13 time  \\\n",
       "0               NaN                     172        904.146431   \n",
       "\n",
       "   instance 14 num stocks  instance 14 time  \n",
       "0                     308       1625.924981  \n",
       "\n",
       "[1 rows x 30 columns]"
      ]
     },
     "execution_count": 70,
     "metadata": {},
     "output_type": "execute_result"
    }
   ],
   "source": [
    "cplex_df"
   ]
  },
  {
   "cell_type": "code",
   "execution_count": 35,
   "id": "cf047f17",
   "metadata": {},
   "outputs": [],
   "source": [
    "cplex_df.to_csv('cplex.csv')"
   ]
  }
 ],
 "metadata": {
  "kernelspec": {
   "display_name": "Python 3 (ipykernel)",
   "language": "python",
   "name": "python3"
  },
  "language_info": {
   "codemirror_mode": {
    "name": "ipython",
    "version": 3
   },
   "file_extension": ".py",
   "mimetype": "text/x-python",
   "name": "python",
   "nbconvert_exporter": "python",
   "pygments_lexer": "ipython3",
   "version": "3.10.12"
  }
 },
 "nbformat": 4,
 "nbformat_minor": 5
}
